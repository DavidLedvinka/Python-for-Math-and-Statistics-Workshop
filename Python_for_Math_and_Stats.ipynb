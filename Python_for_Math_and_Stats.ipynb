{
  "nbformat": 4,
  "nbformat_minor": 0,
  "metadata": {
    "colab": {
      "name": "Python_for_Math_and_Stats.ipynb",
      "provenance": [],
      "collapsed_sections": [],
      "authorship_tag": "ABX9TyOie0SohQhHzhlHzqdRMxLa",
      "include_colab_link": true
    },
    "kernelspec": {
      "name": "python3",
      "display_name": "Python 3"
    }
  },
  "cells": [
    {
      "cell_type": "markdown",
      "metadata": {
        "id": "view-in-github",
        "colab_type": "text"
      },
      "source": [
        "<a href=\"https://colab.research.google.com/github/DavidLedvinka/Python-for-Math-and-Statistics-Workshop/blob/master/Python_for_Math_and_Stats.ipynb\" target=\"_parent\"><img src=\"https://colab.research.google.com/assets/colab-badge.svg\" alt=\"Open In Colab\"/></a>"
      ]
    },
    {
      "cell_type": "markdown",
      "metadata": {
        "id": "_tKLHo-zy74K",
        "colab_type": "text"
      },
      "source": [
        "Python Workshop for Mathematics and Statistics\n",
        "==="
      ]
    },
    {
      "cell_type": "markdown",
      "metadata": {
        "id": "OksMYwyVTwNd",
        "colab_type": "text"
      },
      "source": [
        "### About Python"
      ]
    },
    {
      "cell_type": "markdown",
      "metadata": {
        "id": "Tj42WiQDzC6H",
        "colab_type": "text"
      },
      "source": [
        "* Python is an interpreted, high-level, general purpose programming language \\\\\n",
        "(R is interpreted and high-level but not general purpose)\n",
        "* Python supports multiple programming paradigms included procedural, object-oriented and functional, but is primarily object-oriented\n",
        "(R is also multi-paradigmatic but is primarily functional)\n"
      ]
    },
    {
      "cell_type": "markdown",
      "metadata": {
        "id": "MceyrNSyGLQd",
        "colab_type": "text"
      },
      "source": [
        "### Basic Python Syntax and Structure\n"
      ]
    },
    {
      "cell_type": "markdown",
      "metadata": {
        "id": "K9XknxSSGk_b",
        "colab_type": "text"
      },
      "source": [
        "In python we have the typical basic datatypes such as:"
      ]
    },
    {
      "cell_type": "code",
      "metadata": {
        "id": "qNkAUAdlHHpv",
        "colab_type": "code",
        "colab": {}
      },
      "source": [
        "3     # Integers\n",
        "3.14  # Floating Points\n",
        "\"pi\"  # Strings (can use double quotes or single quotes)\n",
        "True  # Booleans`"
      ],
      "execution_count": 0,
      "outputs": []
    },
    {
      "cell_type": "markdown",
      "metadata": {
        "id": "ToCAheMAINvB",
        "colab_type": "text"
      },
      "source": [
        "We have data structures such as:"
      ]
    },
    {
      "cell_type": "code",
      "metadata": {
        "id": "vQdccNLTIXEq",
        "colab_type": "code",
        "colab": {}
      },
      "source": [
        "[3,\".1\",4]            # Lists \n",
        "(3, \".1\", 4)          # Tuples (like lists but immutable)\n",
        "{3,\"1\",4}             # Sets (like lists but unordered)\n",
        "{\"pi\":3.14, \"e\":2.71} # Dictionaries (kind of like lists but indexed by your choice of keys)"
      ],
      "execution_count": 0,
      "outputs": []
    },
    {
      "cell_type": "markdown",
      "metadata": {
        "id": "VKv91117Kd9g",
        "colab_type": "text"
      },
      "source": [
        "We assign variables by:"
      ]
    },
    {
      "cell_type": "code",
      "metadata": {
        "id": "TSywLmzcKgFq",
        "colab_type": "code",
        "colab": {}
      },
      "source": [
        "x = 3.14"
      ],
      "execution_count": 0,
      "outputs": []
    },
    {
      "cell_type": "markdown",
      "metadata": {
        "id": "qHcCK8UbKj-K",
        "colab_type": "text"
      },
      "source": [
        "We define functions by:"
      ]
    },
    {
      "cell_type": "code",
      "metadata": {
        "id": "JSsI-023KpZQ",
        "colab_type": "code",
        "colab": {}
      },
      "source": [
        "def foo(x):\n",
        "  val = 2 * (x ** 2) + 1\n",
        "  output = \"2({})^2 + 1 = {}\".format(x,val)\n",
        "  return output"
      ],
      "execution_count": 0,
      "outputs": []
    },
    {
      "cell_type": "code",
      "metadata": {
        "id": "dGbNx6PaLsuj",
        "colab_type": "code",
        "colab": {}
      },
      "source": [
        "a = foo(2)\n",
        "print(a)"
      ],
      "execution_count": 0,
      "outputs": []
    },
    {
      "cell_type": "markdown",
      "metadata": {
        "id": "51DIscUGMhsc",
        "colab_type": "text"
      },
      "source": [
        "We have the following control structures:"
      ]
    },
    {
      "cell_type": "code",
      "metadata": {
        "id": "GwEORM5xM17S",
        "colab_type": "code",
        "colab": {}
      },
      "source": [
        "# While Loop\n",
        "i = 1\n",
        "s = 0\n",
        "while i <= 10:\n",
        "  s += i\n",
        "  i += 1\n",
        "\n",
        "print(s)"
      ],
      "execution_count": 0,
      "outputs": []
    },
    {
      "cell_type": "code",
      "metadata": {
        "id": "aD5ZYO-4OP6U",
        "colab_type": "code",
        "colab": {}
      },
      "source": [
        "# For Loop\n",
        "s = 0\n",
        "for i in range(11): # INCLUDES i = 0 !!\n",
        "  s += i\n",
        "\n",
        "print(s)"
      ],
      "execution_count": 0,
      "outputs": []
    },
    {
      "cell_type": "code",
      "metadata": {
        "id": "ovV4SehmO0Ur",
        "colab_type": "code",
        "colab": {}
      },
      "source": [
        "# You can also for loop over a list\n",
        "for letter in [\"H\",\"E\",\"L\",\"L\",\"O\"]:\n",
        "  print(letter)"
      ],
      "execution_count": 0,
      "outputs": []
    },
    {
      "cell_type": "code",
      "metadata": {
        "id": "KIxQkyiwPQ7e",
        "colab_type": "code",
        "outputId": "0cbf0fd8-3ad8-4ef9-bb52-bece3015600f",
        "colab": {
          "base_uri": "https://localhost:8080/",
          "height": 34
        }
      },
      "source": [
        "# If,Then,Else Statements\n",
        "a = 0\n",
        "if  a == 420:\n",
        "  print(\"a is 420\")\n",
        "else:\n",
        "  print(\"a is not 420\")"
      ],
      "execution_count": 126,
      "outputs": [
        {
          "output_type": "stream",
          "text": [
            "a is not 420\n"
          ],
          "name": "stdout"
        }
      ]
    },
    {
      "cell_type": "markdown",
      "metadata": {
        "id": "LRNRyoQ0QDmY",
        "colab_type": "text"
      },
      "source": [
        "R being a language focused on statistical computing, has some powerful core data structures which are useful for its purpose. Most R programs are focused around manipulating arrays and dataframes.\n",
        "\n",
        "Python on the other hand is general purpose, and we generally need to import libraries which give us the tools to handle specific kinds of tasks, including libraries which give us data structures that behave similarily to arrays (NumPy)\n",
        "and dataframes (Pandas).\n",
        "\n",
        "Furthermore Python is Object-Oriented, meaning we will often be dealing with different kinds of data structures (objects) built specifically to handle a certain set of behaviours or tasks."
      ]
    },
    {
      "cell_type": "markdown",
      "metadata": {
        "id": "G8mAfC3PqASC",
        "colab_type": "text"
      },
      "source": [
        "Here are a few more tricks with lists that we will use later on:"
      ]
    },
    {
      "cell_type": "code",
      "metadata": {
        "id": "UURTytBWqD_z",
        "colab_type": "code",
        "colab": {}
      },
      "source": [
        "# You can extract elements by indexing\n",
        "[3,\".1\",4][0]"
      ],
      "execution_count": 0,
      "outputs": []
    },
    {
      "cell_type": "code",
      "metadata": {
        "id": "lZYh_QE7qNpW",
        "colab_type": "code",
        "colab": {}
      },
      "source": [
        "# You can \"splice\" them\n",
        "[\"H\",\"E\",\"L\",\"L\",\"0\"][1:4]"
      ],
      "execution_count": 0,
      "outputs": []
    },
    {
      "cell_type": "code",
      "metadata": {
        "id": "tmfwiJjeqh33",
        "colab_type": "code",
        "colab": {}
      },
      "source": [
        "# You can do list comprehension\n",
        "[i for i in range(11) if i > 5]"
      ],
      "execution_count": 0,
      "outputs": []
    },
    {
      "cell_type": "code",
      "metadata": {
        "id": "DRDzKO0xriUB",
        "colab_type": "code",
        "colab": {}
      },
      "source": [
        "# You can add them to concatenate\n",
        "['a','b','c'] + ['e','f','g']"
      ],
      "execution_count": 0,
      "outputs": []
    },
    {
      "cell_type": "code",
      "metadata": {
        "id": "TDUoNdZjrs3o",
        "colab_type": "code",
        "colab": {}
      },
      "source": [
        "# And multiply too!\n",
        "2 * (\"H\" + 20 * \"A\" + \" \")"
      ],
      "execution_count": 0,
      "outputs": []
    },
    {
      "cell_type": "markdown",
      "metadata": {
        "id": "4vS4cXJtTmXE",
        "colab_type": "text"
      },
      "source": [
        "### What is Object Oriented Programming?"
      ]
    },
    {
      "cell_type": "markdown",
      "metadata": {
        "id": "Mw8ogiqg2H1O",
        "colab_type": "text"
      },
      "source": [
        "Object-oriented programming is a programming paradigm where the structure of programs is based around \"objects\" that contain data (called attributes) and have a set of functions which can be applied to them (called methods). \n",
        "\n",
        "In Python: \\\\\n",
        "A  **Class** is a template for a type of object \\\\\n",
        "An **Object** is an instance of a class\n",
        "\n",
        "A Class defines the set of attributes that its objects should have and methods that can be applied to them.\n"
      ]
    },
    {
      "cell_type": "markdown",
      "metadata": {
        "id": "OD_f2Hg695-z",
        "colab_type": "text"
      },
      "source": [
        "#### Example"
      ]
    },
    {
      "cell_type": "markdown",
      "metadata": {
        "id": "R6Om8i44sVAG",
        "colab_type": "text"
      },
      "source": [
        "In python libraries are called modules. We are going to import a module to help us with our example. This module is also extremely useful for data science and math applications in general."
      ]
    },
    {
      "cell_type": "code",
      "metadata": {
        "id": "5z4R12W_E7Kq",
        "colab_type": "code",
        "colab": {}
      },
      "source": [
        "import numpy as np"
      ],
      "execution_count": 0,
      "outputs": []
    },
    {
      "cell_type": "markdown",
      "metadata": {
        "id": "M8c61TXkFG6S",
        "colab_type": "text"
      },
      "source": [
        "This module gives us an array data structure which behave similar to the arrays from R."
      ]
    },
    {
      "cell_type": "markdown",
      "metadata": {
        "id": "IBeesGmI_mIc",
        "colab_type": "text"
      },
      "source": [
        "We will make a Class whose objects represent polynomials: $a_nx^n + \\ldots a_1x + a_0$ \\\\\n",
        "<details>\n",
        "<summary> What attributes (data) should a polynomial have? </summary>\n",
        "An array of its coefficients\n",
        "</details>\n"
      ]
    },
    {
      "cell_type": "code",
      "metadata": {
        "id": "1H05-rAE9UMC",
        "colab_type": "code",
        "colab": {}
      },
      "source": [
        "class Polynomial:\n",
        "\n",
        "  # Define Initializer\n",
        "  def __init__(self, coefficients, variable):\n",
        "    # Coefficients should be a list where the kth value is\n",
        "    # the coefficient of x^k\n",
        "    self.coefficients = coefficients\n",
        "    # Variable should be a string\n",
        "    self.variable = variable"
      ],
      "execution_count": 0,
      "outputs": []
    },
    {
      "cell_type": "code",
      "metadata": {
        "id": "Eclxv0ij-3bE",
        "colab_type": "code",
        "colab": {}
      },
      "source": [
        "# Create a Polynomial object\n",
        "p = Polynomial([1,2,3],'x')"
      ],
      "execution_count": 0,
      "outputs": []
    },
    {
      "cell_type": "code",
      "metadata": {
        "id": "RaNT2j_ctPUQ",
        "colab_type": "code",
        "colab": {}
      },
      "source": [
        "# Get its coefficients\n",
        "p.coefficients\n",
        "# Get its variable\n",
        "p.variable"
      ],
      "execution_count": 0,
      "outputs": []
    },
    {
      "cell_type": "markdown",
      "metadata": {
        "id": "-lcvjCZvC_s0",
        "colab_type": "text"
      },
      "source": [
        "<details>\n",
        "<summary> What are some possible methods for a polynomial? </summary>\n",
        "\n",
        "* Addition\n",
        "* Subtraction\n",
        "* Multiplication\n",
        "* Differentiation\n",
        "\n",
        "</details>"
      ]
    },
    {
      "cell_type": "code",
      "metadata": {
        "id": "YwkXbKR0DwJF",
        "colab_type": "code",
        "colab": {}
      },
      "source": [
        "class Polynomial:\n",
        "\n",
        "  # Define Initializer\n",
        "  def __init__(self, coefficients):\n",
        "    # Coefficients should be an numpy array where the kth value is\n",
        "    # the coefficient of x^k\n",
        "    self.coefficients = coefficients\n",
        "  # Redefine the add method\n",
        "  def __add__(self, summand):\n",
        "    return self.coefficients + summand.coefficients"
      ],
      "execution_count": 0,
      "outputs": []
    },
    {
      "cell_type": "code",
      "metadata": {
        "id": "i-wmEwHIFy5R",
        "colab_type": "code",
        "colab": {}
      },
      "source": [
        "p = Polynomial(np.array([1,4,5]))\n",
        "q = Polynomial(np.array([2,2,1]))\n",
        "print(p.__add__(q))\n",
        "print(p + q)"
      ],
      "execution_count": 0,
      "outputs": []
    },
    {
      "cell_type": "markdown",
      "metadata": {
        "id": "-xY9q7fHHq3s",
        "colab_type": "text"
      },
      "source": [
        "As an excercise try to impliment one (or multiple) of the other method ideas for polynomials."
      ]
    },
    {
      "cell_type": "markdown",
      "metadata": {
        "id": "upV-p21sJV4u",
        "colab_type": "text"
      },
      "source": [
        "We can define a function which makes it easier to create polynomials"
      ]
    },
    {
      "cell_type": "markdown",
      "metadata": {
        "id": "AJsZHxEa_A_6",
        "colab_type": "text"
      },
      "source": [
        "### Web Scraping"
      ]
    },
    {
      "cell_type": "markdown",
      "metadata": {
        "id": "fKD_F88a_Hhp",
        "colab_type": "text"
      },
      "source": [
        "Web scraping is the process of extracting data from websites. Python has some of the best libraries (modules) for automating this task. "
      ]
    },
    {
      "cell_type": "markdown",
      "metadata": {
        "id": "KTiF6Wdc_9dh",
        "colab_type": "text"
      },
      "source": [
        "We are going to need the following modules:"
      ]
    },
    {
      "cell_type": "code",
      "metadata": {
        "id": "2zMSuexcAC6I",
        "colab_type": "code",
        "colab": {}
      },
      "source": [
        "import requests # get html from web\n",
        "from bs4 import BeautifulSoup # html parser"
      ],
      "execution_count": 0,
      "outputs": []
    },
    {
      "cell_type": "markdown",
      "metadata": {
        "id": "qIoSH-0MAzwX",
        "colab_type": "text"
      },
      "source": [
        "The **requests** module will allow us to get the html code for the webpage that has the target data. The **BeautifulSoup** module is an html parser that will allow us to parse the html for the desired data. There is an alternative to requests called **selenium** which allows you to automate a webbrowser (firefox or chrome). One should always use requests over selenium if possible since it is easier to use, much faster, and safer. However there are times when a tool like selenium is necessary, for example if one needs to interact with java script scripts to access the target data. "
      ]
    },
    {
      "cell_type": "markdown",
      "metadata": {
        "id": "p6f0f9gLDimY",
        "colab_type": "text"
      },
      "source": [
        "Suppose we wanted to get the game by game stats of every player in the NBA. First we need to find a website that has the desired data:\n",
        "\n",
        "https://www.basketball-reference.com"
      ]
    },
    {
      "cell_type": "markdown",
      "metadata": {
        "id": "rIoiIKVQEXsu",
        "colab_type": "text"
      },
      "source": [
        "Since the game by game stats appear on individual pages per player, if we want the game by game stats for every player, we would need to write a loop over all players in the NBA, but first lets just write a program that extracts the data for one player. "
      ]
    },
    {
      "cell_type": "markdown",
      "metadata": {
        "id": "pHFEkaPgFep1",
        "colab_type": "text"
      },
      "source": [
        "Lets use Kawhi Leonard as a template. The url with his game by game data is:\n",
        "\n",
        "https://www.basketball-reference.com/players/l/leonaka01/gamelog/2020/"
      ]
    },
    {
      "cell_type": "markdown",
      "metadata": {
        "id": "Giu799DgHZVM",
        "colab_type": "text"
      },
      "source": [
        "First we need to get the html code from the webpage:\n"
      ]
    },
    {
      "cell_type": "code",
      "metadata": {
        "id": "P8Afv4vxHe8h",
        "colab_type": "code",
        "colab": {}
      },
      "source": [
        "url = \"https://www.basketball-reference.com/players/l/leonaka01/gamelog/2019/\"\n",
        "request = requests.get(url)\n",
        "html = request.content"
      ],
      "execution_count": 0,
      "outputs": []
    },
    {
      "cell_type": "code",
      "metadata": {
        "id": "49zR8Gr3Ij1w",
        "colab_type": "code",
        "colab": {}
      },
      "source": [
        "print(str(html))"
      ],
      "execution_count": 0,
      "outputs": []
    },
    {
      "cell_type": "markdown",
      "metadata": {
        "id": "pcoaRFmjJQ_G",
        "colab_type": "text"
      },
      "source": [
        "Next we want to create a BeautifulSoup object:"
      ]
    },
    {
      "cell_type": "code",
      "metadata": {
        "id": "Z8pxaOw4JT-V",
        "colab_type": "code",
        "colab": {}
      },
      "source": [
        "soup = BeautifulSoup(html)"
      ],
      "execution_count": 0,
      "outputs": []
    },
    {
      "cell_type": "markdown",
      "metadata": {
        "id": "yB7SyWMOJ0Cz",
        "colab_type": "text"
      },
      "source": [
        "Then find the table with the game by game data"
      ]
    },
    {
      "cell_type": "code",
      "metadata": {
        "id": "wMCN_yMMJ7WB",
        "colab_type": "code",
        "colab": {}
      },
      "source": [
        "gamelog = soup.find('table', {'id': 'pgl_basic'})"
      ],
      "execution_count": 0,
      "outputs": []
    },
    {
      "cell_type": "markdown",
      "metadata": {
        "id": "_nSFoueHN7WU",
        "colab_type": "text"
      },
      "source": [
        "Before extracting the data, we need a place to put it. Lets create a csv file:"
      ]
    },
    {
      "cell_type": "code",
      "metadata": {
        "id": "Gw2G3NL1ODdT",
        "colab_type": "code",
        "colab": {}
      },
      "source": [
        "csv = open(\"kawhi_leonard_gamelog.csv\", 'w')"
      ],
      "execution_count": 0,
      "outputs": []
    },
    {
      "cell_type": "markdown",
      "metadata": {
        "id": "RuE9nbRoOee_",
        "colab_type": "text"
      },
      "source": [
        "The 'w' stands for \"write\" and means that the file will be overwritten if it already exists and created if it doesn't exist. There is also a read option 'r' and append option 'a'."
      ]
    },
    {
      "cell_type": "code",
      "metadata": {
        "id": "36bGmc0kPCjH",
        "colab_type": "code",
        "colab": {}
      },
      "source": [
        "header = \"Rk,G,Date,Age,Tm,Away,Opp,Res,GS,MP,FG,FGA,FG%,3P,3PA,3P%,FT,FTA,FT%,ORB,DRB,TRB,AST,STL,BLK,TOV,PF,PTS,GmSc,+/-\\n\"\n",
        "csv.write(header)"
      ],
      "execution_count": 0,
      "outputs": []
    },
    {
      "cell_type": "markdown",
      "metadata": {
        "id": "6v_wLtYkYs8J",
        "colab_type": "text"
      },
      "source": [
        "and then extract the data:"
      ]
    },
    {
      "cell_type": "code",
      "metadata": {
        "id": "lLJjBaQIYupy",
        "colab_type": "code",
        "colab": {}
      },
      "source": [
        "# Initalize a counter for the rank\n",
        "rank = 0\n",
        "# Loop over all rows in the table\n",
        "for row in gamelog.find_all('tr'):\n",
        "  # Initalize a string for the row entry to the csv\n",
        "  row_entry = \"\"\n",
        "  # Get the data in the row\n",
        "  row_data = row.find_all('td')\n",
        "  # Check if the row is a header row\n",
        "  if row_data: \n",
        "    # Add one to the rank\n",
        "    rank += 1\n",
        "    # Add the rank to the entry \n",
        "    row_entry += \"{},\".format(rank) \n",
        "    # Get the first entry G\n",
        "    G = row_data[0].text\n",
        "    # Add G to the row entry\n",
        "    # ... in the case that G is empty\n",
        "    if not G:\n",
        "      row_entry += \"DNP,\"\n",
        "    # ... in the case that G is nonempty\n",
        "    else:\n",
        "      row_entry += \"{},\".format(G)\n",
        "    # Add the next three entries Date,Age,Tm\n",
        "    row_entry += ','.join([td.text for td in row_data[1:4]]) + ','\n",
        "    # Set Away to 1 if player was on the away team, else 0\n",
        "    if row_data[4].text:\n",
        "      row_entry += \"1,\"\n",
        "    else:\n",
        "      row_entry += \"0,\"\n",
        "    # Add the next three entries Opp, Res, Gm\n",
        "    row_entry += ','.join([td.text for td in row_data[5:8]]) + ','\n",
        "    # If the player didnt play set all the remaining entries to DNP\n",
        "    if not G:\n",
        "      row_entry += \"DNP,\" * 20 + \"DNP\"\n",
        "    else:\n",
        "      # Otherwise add the remaining entries\n",
        "      row_entry += \",\".join([td.text for td in row_data[8:]])\n",
        "    # Add a newline character to the end of the entry\n",
        "    row_entry += \"\\n\"\n",
        "    # Write the row to the file\n",
        "    csv.write(row_entry)"
      ],
      "execution_count": 0,
      "outputs": []
    },
    {
      "cell_type": "markdown",
      "metadata": {
        "id": "orr3_TtGmJSU",
        "colab_type": "text"
      },
      "source": [
        "Finally close the file"
      ]
    },
    {
      "cell_type": "code",
      "metadata": {
        "id": "zoRyInhGjEED",
        "colab_type": "code",
        "colab": {}
      },
      "source": [
        "csv.close()"
      ],
      "execution_count": 0,
      "outputs": []
    },
    {
      "cell_type": "markdown",
      "metadata": {
        "id": "cI4E6Y0qnO-9",
        "colab_type": "text"
      },
      "source": [
        "I feel obligated to mention that many websites have a policy on the use of bots on their site. You can find it by going to the *url*/robots.txt, for example: https://www.basketball-reference.com/robots.txt"
      ]
    }
  ]
}