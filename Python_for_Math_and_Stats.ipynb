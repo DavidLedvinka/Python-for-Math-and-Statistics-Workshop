{
  "nbformat": 4,
  "nbformat_minor": 0,
  "metadata": {
    "colab": {
      "name": "Python_for_Math_and_Stats.ipynb",
      "provenance": [],
      "collapsed_sections": [],
      "authorship_tag": "ABX9TyMiduvJB2h4q+r2Isxvy4m2",
      "include_colab_link": true
    },
    "kernelspec": {
      "name": "python3",
      "display_name": "Python 3"
    }
  },
  "cells": [
    {
      "cell_type": "markdown",
      "metadata": {
        "id": "view-in-github",
        "colab_type": "text"
      },
      "source": [
        "<a href=\"https://colab.research.google.com/github/DavidLedvinka/Python-for-Math-and-Statistics-Workshop/blob/master/Python_for_Math_and_Stats.ipynb\" target=\"_parent\"><img src=\"https://colab.research.google.com/assets/colab-badge.svg\" alt=\"Open In Colab\"/></a>"
      ]
    },
    {
      "cell_type": "markdown",
      "metadata": {
        "id": "_tKLHo-zy74K",
        "colab_type": "text"
      },
      "source": [
        "Python Workshop for Mathematics and Statistics\n",
        "==="
      ]
    },
    {
      "cell_type": "markdown",
      "metadata": {
        "id": "Tj42WiQDzC6H",
        "colab_type": "text"
      },
      "source": [
        "### About Python (and comparisons with R)\n",
        "\n",
        "* Python is an interpreted, high-level, general purpose programming language \\\\\n",
        "(R is interpreted and high-level but not general purpose)\n",
        "* Python supports multiple programming paradigms included procedural, object-oriented and functional, but is primarily object-oriented\n",
        "(R is also multi-paradigmatic but is primarily functional)\n"
      ]
    },
    {
      "cell_type": "markdown",
      "metadata": {
        "id": "Mw8ogiqg2H1O",
        "colab_type": "text"
      },
      "source": [
        "### What is Object-Oriented Programming?\n",
        "Object-oriented programming is a programming paradigm where the structure of programs is based around \"objects\" that contain data (called attributes) and have a set of functions which can be applied to them (called methods). \n",
        "\n",
        "In Python: \\\\\n",
        "A  **Class** is a template for a type of object \\\\\n",
        "An **Object** is an instance of a class\n",
        "\n",
        "A Class defines the set of attributes that its objects should have and methods that can be applied to them.\n"
      ]
    },
    {
      "cell_type": "markdown",
      "metadata": {
        "id": "OD_f2Hg695-z",
        "colab_type": "text"
      },
      "source": [
        "#### Example"
      ]
    },
    {
      "cell_type": "markdown",
      "metadata": {
        "id": "but7kTipElNj",
        "colab_type": "text"
      },
      "source": [
        "First lets import a useful module for Math and Statistics called NumPy"
      ]
    },
    {
      "cell_type": "code",
      "metadata": {
        "id": "5z4R12W_E7Kq",
        "colab_type": "code",
        "colab": {}
      },
      "source": [
        "import numpy as np"
      ],
      "execution_count": 0,
      "outputs": []
    },
    {
      "cell_type": "markdown",
      "metadata": {
        "id": "M8c61TXkFG6S",
        "colab_type": "text"
      },
      "source": [
        "This module gives us an array data structure which behave similar to the arrays from R."
      ]
    },
    {
      "cell_type": "markdown",
      "metadata": {
        "id": "IBeesGmI_mIc",
        "colab_type": "text"
      },
      "source": [
        "We will make a Class whose objects represent polynomials: $a_nx^n + \\ldots a_1x + a_0$ \\\\\n",
        "<details>\n",
        "<summary> What attributes (data) should a polynomial have? </summary>\n",
        "An array of its coefficients\n",
        "</details>\n"
      ]
    },
    {
      "cell_type": "code",
      "metadata": {
        "id": "1H05-rAE9UMC",
        "colab_type": "code",
        "colab": {}
      },
      "source": [
        "class Polynomial:\n",
        "\n",
        "  # Define Initializer\n",
        "  def __init__(self, coefficients):\n",
        "    # Coefficients should be an numpy array where the kth value is\n",
        "    # the coefficient of x^k\n",
        "    self.coefficients = coefficients"
      ],
      "execution_count": 0,
      "outputs": []
    },
    {
      "cell_type": "code",
      "metadata": {
        "id": "Eclxv0ij-3bE",
        "colab_type": "code",
        "colab": {}
      },
      "source": [
        "# Create a Polynomial object\n",
        "p = Polynomial([1,2,3])\n",
        "# Get its coefficients\n",
        "p.coefficients"
      ],
      "execution_count": 0,
      "outputs": []
    },
    {
      "cell_type": "markdown",
      "metadata": {
        "id": "-lcvjCZvC_s0",
        "colab_type": "text"
      },
      "source": [
        "<details>\n",
        "<summary> What are some possible methods for a polynomial? </summary>\n",
        "\n",
        "* Addition\n",
        "* Subtraction\n",
        "* Multiplication\n",
        "* Differentiation\n",
        "\n",
        "</details>"
      ]
    },
    {
      "cell_type": "code",
      "metadata": {
        "id": "YwkXbKR0DwJF",
        "colab_type": "code",
        "colab": {}
      },
      "source": [
        "class Polynomial:\n",
        "\n",
        "  # Define Initializer\n",
        "  def __init__(self, coefficients):\n",
        "    # Coefficients should be an numpy array where the kth value is\n",
        "    # the coefficient of x^k\n",
        "    self.coefficients = coefficients\n",
        "  # Redefine the add method\n",
        "  def __add__(self, summand):\n",
        "    return self.coefficients + summand.coefficients"
      ],
      "execution_count": 0,
      "outputs": []
    },
    {
      "cell_type": "code",
      "metadata": {
        "id": "i-wmEwHIFy5R",
        "colab_type": "code",
        "colab": {}
      },
      "source": [
        "p = Polynomial(np.array([1,4,5]))\n",
        "q = Polynomial(np.array([2,2,1]))\n",
        "print(p.__add__(q))\n",
        "print(p + q)"
      ],
      "execution_count": 0,
      "outputs": []
    },
    {
      "cell_type": "markdown",
      "metadata": {
        "id": "-xY9q7fHHq3s",
        "colab_type": "text"
      },
      "source": [
        "As an excercise try to impliment one (or multiple) of the other method ideas for polynomials."
      ]
    },
    {
      "cell_type": "markdown",
      "metadata": {
        "id": "upV-p21sJV4u",
        "colab_type": "text"
      },
      "source": [
        "We can define a function which makes it easier to create polynomials"
      ]
    },
    {
      "cell_type": "code",
      "metadata": {
        "id": "92ygbrqUIL7M",
        "colab_type": "code",
        "colab": {}
      },
      "source": [
        "def make_polynomial(coefficient_list):\n",
        "  return Polynomial(np.array(coefficient_list))"
      ],
      "execution_count": 0,
      "outputs": []
    },
    {
      "cell_type": "code",
      "metadata": {
        "id": "yJE9H42YI36E",
        "colab_type": "code",
        "colab": {}
      },
      "source": [
        "p = make_polynomial([1,0,3])\n",
        "q = make_polynomial([2,2,2])\n",
        "print(p.coefficients)\n",
        "print(p + q)"
      ],
      "execution_count": 0,
      "outputs": []
    }
  ]
}