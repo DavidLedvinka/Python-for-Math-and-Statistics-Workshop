{
  "nbformat": 4,
  "nbformat_minor": 0,
  "metadata": {
    "colab": {
      "name": "Python_for_Math_and_Stats.ipynb",
      "provenance": [],
      "collapsed_sections": [],
      "authorship_tag": "ABX9TyOdhZGCzd1JE6AFqWght5ME",
      "include_colab_link": true
    },
    "kernelspec": {
      "name": "python3",
      "display_name": "Python 3"
    }
  },
  "cells": [
    {
      "cell_type": "markdown",
      "metadata": {
        "id": "view-in-github",
        "colab_type": "text"
      },
      "source": [
        "<a href=\"https://colab.research.google.com/github/DavidLedvinka/Python-for-Math-and-Statistics-Workshop/blob/master/Python_for_Math_and_Stats.ipynb\" target=\"_parent\"><img src=\"https://colab.research.google.com/assets/colab-badge.svg\" alt=\"Open In Colab\"/></a>"
      ]
    },
    {
      "cell_type": "markdown",
      "metadata": {
        "id": "_tKLHo-zy74K",
        "colab_type": "text"
      },
      "source": [
        "Python Workshop for Mathematics and Statistics\n",
        "==="
      ]
    },
    {
      "cell_type": "markdown",
      "metadata": {
        "id": "Tj42WiQDzC6H",
        "colab_type": "text"
      },
      "source": [
        "### About Python (and comparisons with R)\n",
        "\n",
        "* Python is an interpreted, high-level, general purpose programming language \\\\\n",
        "(R is interpreted and high-level but not general purpose)\n",
        "* Python supports multiple programming paradigms included procedural, object-oriented and functional, but is primarily object-oriented\n",
        "(R is also multi-paradigmatic but is primarily functional)\n"
      ]
    },
    {
      "cell_type": "markdown",
      "metadata": {
        "id": "MceyrNSyGLQd",
        "colab_type": "text"
      },
      "source": [
        "### Basic Python Syntax and Structure\n"
      ]
    },
    {
      "cell_type": "markdown",
      "metadata": {
        "id": "K9XknxSSGk_b",
        "colab_type": "text"
      },
      "source": [
        "In python we have the typical basic datatypes such as:"
      ]
    },
    {
      "cell_type": "code",
      "metadata": {
        "id": "qNkAUAdlHHpv",
        "colab_type": "code",
        "colab": {}
      },
      "source": [
        "3     # Integers\n",
        "3.14  # Floating Points\n",
        "\"pi\"  # Strings (can use double quotes or single quotes)\n",
        "True  # Booleans`"
      ],
      "execution_count": 0,
      "outputs": []
    },
    {
      "cell_type": "markdown",
      "metadata": {
        "id": "ToCAheMAINvB",
        "colab_type": "text"
      },
      "source": [
        "We have data structures such as:"
      ]
    },
    {
      "cell_type": "code",
      "metadata": {
        "id": "vQdccNLTIXEq",
        "colab_type": "code",
        "colab": {
          "base_uri": "https://localhost:8080/",
          "height": 34
        },
        "outputId": "f925286e-8a2b-4a25-be7c-d2f49812c69a"
      },
      "source": [
        "[3,\".1\",4]            # Lists \n",
        "(3, \".1\", 4)          # Tuples (like lists but immutable)\n",
        "{3,\"1\",4}             # Sets (like lists but unordered)\n",
        "{\"pi\":3.14, \"e\":2.71} # Dictionaries (kind of like lists but indexed by your choice of keys)"
      ],
      "execution_count": 1,
      "outputs": [
        {
          "output_type": "execute_result",
          "data": {
            "text/plain": [
              "{'1', 3, 4}"
            ]
          },
          "metadata": {
            "tags": []
          },
          "execution_count": 1
        }
      ]
    },
    {
      "cell_type": "markdown",
      "metadata": {
        "id": "VKv91117Kd9g",
        "colab_type": "text"
      },
      "source": [
        "We assign variables by:"
      ]
    },
    {
      "cell_type": "code",
      "metadata": {
        "id": "TSywLmzcKgFq",
        "colab_type": "code",
        "colab": {}
      },
      "source": [
        "x = 3.14"
      ],
      "execution_count": 0,
      "outputs": []
    },
    {
      "cell_type": "markdown",
      "metadata": {
        "id": "qHcCK8UbKj-K",
        "colab_type": "text"
      },
      "source": [
        "We define functions by:"
      ]
    },
    {
      "cell_type": "code",
      "metadata": {
        "id": "JSsI-023KpZQ",
        "colab_type": "code",
        "colab": {}
      },
      "source": [
        "def foo(x):\n",
        "  val = 2 * (x ** 2) + 1\n",
        "  output = \"2({})^2 + 1 = {}\".format(x,val)\n",
        "  return output"
      ],
      "execution_count": 0,
      "outputs": []
    },
    {
      "cell_type": "code",
      "metadata": {
        "id": "dGbNx6PaLsuj",
        "colab_type": "code",
        "colab": {}
      },
      "source": [
        "a = foo(2)\n",
        "print(a)"
      ],
      "execution_count": 0,
      "outputs": []
    },
    {
      "cell_type": "markdown",
      "metadata": {
        "id": "51DIscUGMhsc",
        "colab_type": "text"
      },
      "source": [
        "We have the following control structures:"
      ]
    },
    {
      "cell_type": "code",
      "metadata": {
        "id": "GwEORM5xM17S",
        "colab_type": "code",
        "colab": {}
      },
      "source": [
        "# While Loop\n",
        "i = 1\n",
        "s = 0\n",
        "while i <= 10:\n",
        "  s += i\n",
        "  i += 1\n",
        "\n",
        "print(s)"
      ],
      "execution_count": 0,
      "outputs": []
    },
    {
      "cell_type": "code",
      "metadata": {
        "id": "aD5ZYO-4OP6U",
        "colab_type": "code",
        "colab": {}
      },
      "source": [
        "# For Loop\n",
        "s = 0\n",
        "for i in range(11): # INCLUDES i = 0 !!\n",
        "  s += i\n",
        "\n",
        "print(s)"
      ],
      "execution_count": 0,
      "outputs": []
    },
    {
      "cell_type": "code",
      "metadata": {
        "id": "ovV4SehmO0Ur",
        "colab_type": "code",
        "colab": {}
      },
      "source": [
        "# You can also for loop over a list\n",
        "for letter in [\"H\",\"E\",\"L\",\"L\",\"O\"]:\n",
        "  print(letter)"
      ],
      "execution_count": 0,
      "outputs": []
    },
    {
      "cell_type": "code",
      "metadata": {
        "id": "KIxQkyiwPQ7e",
        "colab_type": "code",
        "colab": {
          "base_uri": "https://localhost:8080/",
          "height": 34
        },
        "outputId": "f1e227ba-7840-4178-8f2e-4153c025e5be"
      },
      "source": [
        "# If,Then,Else Statements\n",
        "life = 0\n",
        "if life == 42:\n",
        "  print(\"You are smart!\")\n",
        "else:\n",
        "  print(\"You are dumb!\")"
      ],
      "execution_count": 20,
      "outputs": [
        {
          "output_type": "stream",
          "text": [
            "You are dumb!\n"
          ],
          "name": "stdout"
        }
      ]
    },
    {
      "cell_type": "markdown",
      "metadata": {
        "id": "LRNRyoQ0QDmY",
        "colab_type": "text"
      },
      "source": [
        "R being a language focused on statistical computing, has some powerful core data structures which are useful for its purpose. Most R programs are focused around manipulating arrays and dataframes.\n",
        "\n",
        "Python on the other hand is general purpose, and we generally need to import libraries which give us the tools to handle specific kinds of tasks, including libraries which give us data structures that behave similarily to arrays (NumPy)\n",
        "and dataframes (Pandas).\n",
        "\n",
        "Furthermore Python is Object-Oriented, meaning we will often be dealing with different kinds of data structures (objects) built specifically to handle a certain set of behaviours or tasks."
      ]
    },
    {
      "cell_type": "markdown",
      "metadata": {
        "id": "Mw8ogiqg2H1O",
        "colab_type": "text"
      },
      "source": [
        "### What is Object-Oriented Programming?\n",
        "Object-oriented programming is a programming paradigm where the structure of programs is based around \"objects\" that contain data (called attributes) and have a set of functions which can be applied to them (called methods). \n",
        "\n",
        "In Python: \\\\\n",
        "A  **Class** is a template for a type of object \\\\\n",
        "An **Object** is an instance of a class\n",
        "\n",
        "A Class defines the set of attributes that its objects should have and methods that can be applied to them.\n"
      ]
    },
    {
      "cell_type": "markdown",
      "metadata": {
        "id": "OD_f2Hg695-z",
        "colab_type": "text"
      },
      "source": [
        "#### Example"
      ]
    },
    {
      "cell_type": "markdown",
      "metadata": {
        "id": "but7kTipElNj",
        "colab_type": "text"
      },
      "source": [
        "First lets import a useful module for Math and Statistics called NumPy"
      ]
    },
    {
      "cell_type": "code",
      "metadata": {
        "id": "5z4R12W_E7Kq",
        "colab_type": "code",
        "colab": {}
      },
      "source": [
        "import numpy as np"
      ],
      "execution_count": 0,
      "outputs": []
    },
    {
      "cell_type": "markdown",
      "metadata": {
        "id": "M8c61TXkFG6S",
        "colab_type": "text"
      },
      "source": [
        "This module gives us an array data structure which behave similar to the arrays from R."
      ]
    },
    {
      "cell_type": "markdown",
      "metadata": {
        "id": "IBeesGmI_mIc",
        "colab_type": "text"
      },
      "source": [
        "We will make a Class whose objects represent polynomials: $a_nx^n + \\ldots a_1x + a_0$ \\\\\n",
        "<details>\n",
        "<summary> What attributes (data) should a polynomial have? </summary>\n",
        "An array of its coefficients\n",
        "</details>\n"
      ]
    },
    {
      "cell_type": "code",
      "metadata": {
        "id": "1H05-rAE9UMC",
        "colab_type": "code",
        "colab": {}
      },
      "source": [
        "class Polynomial:\n",
        "\n",
        "  # Define Initializer\n",
        "  def __init__(self, coefficients):\n",
        "    # Coefficients should be an numpy array where the kth value is\n",
        "    # the coefficient of x^k\n",
        "    self.coefficients = coefficients"
      ],
      "execution_count": 0,
      "outputs": []
    },
    {
      "cell_type": "code",
      "metadata": {
        "id": "Eclxv0ij-3bE",
        "colab_type": "code",
        "colab": {}
      },
      "source": [
        "# Create a Polynomial object\n",
        "p = Polynomial([1,2,3])\n",
        "# Get its coefficients\n",
        "p.coefficients"
      ],
      "execution_count": 0,
      "outputs": []
    },
    {
      "cell_type": "markdown",
      "metadata": {
        "id": "-lcvjCZvC_s0",
        "colab_type": "text"
      },
      "source": [
        "<details>\n",
        "<summary> What are some possible methods for a polynomial? </summary>\n",
        "\n",
        "* Addition\n",
        "* Subtraction\n",
        "* Multiplication\n",
        "* Differentiation\n",
        "\n",
        "</details>"
      ]
    },
    {
      "cell_type": "code",
      "metadata": {
        "id": "YwkXbKR0DwJF",
        "colab_type": "code",
        "colab": {}
      },
      "source": [
        "class Polynomial:\n",
        "\n",
        "  # Define Initializer\n",
        "  def __init__(self, coefficients):\n",
        "    # Coefficients should be an numpy array where the kth value is\n",
        "    # the coefficient of x^k\n",
        "    self.coefficients = coefficients\n",
        "  # Redefine the add method\n",
        "  def __add__(self, summand):\n",
        "    return self.coefficients + summand.coefficients"
      ],
      "execution_count": 0,
      "outputs": []
    },
    {
      "cell_type": "code",
      "metadata": {
        "id": "i-wmEwHIFy5R",
        "colab_type": "code",
        "colab": {}
      },
      "source": [
        "p = Polynomial(np.array([1,4,5]))\n",
        "q = Polynomial(np.array([2,2,1]))\n",
        "print(p.__add__(q))\n",
        "print(p + q)"
      ],
      "execution_count": 0,
      "outputs": []
    },
    {
      "cell_type": "markdown",
      "metadata": {
        "id": "-xY9q7fHHq3s",
        "colab_type": "text"
      },
      "source": [
        "As an excercise try to impliment one (or multiple) of the other method ideas for polynomials."
      ]
    },
    {
      "cell_type": "markdown",
      "metadata": {
        "id": "upV-p21sJV4u",
        "colab_type": "text"
      },
      "source": [
        "We can define a function which makes it easier to create polynomials"
      ]
    },
    {
      "cell_type": "code",
      "metadata": {
        "id": "92ygbrqUIL7M",
        "colab_type": "code",
        "colab": {}
      },
      "source": [
        "def make_polynomial(coefficient_list):\n",
        "  return Polynomial(np.array(coefficient_list))"
      ],
      "execution_count": 0,
      "outputs": []
    },
    {
      "cell_type": "code",
      "metadata": {
        "id": "yJE9H42YI36E",
        "colab_type": "code",
        "colab": {}
      },
      "source": [
        "p = make_polynomial([1,0,3])\n",
        "q = make_polynomial([2,2,2])\n",
        "print(p.coefficients)\n",
        "print(p + q)"
      ],
      "execution_count": 0,
      "outputs": []
    }
  ]
}