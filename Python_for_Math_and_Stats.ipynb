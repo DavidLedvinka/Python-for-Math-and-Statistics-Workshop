{
  "nbformat": 4,
  "nbformat_minor": 0,
  "metadata": {
    "colab": {
      "name": "Python_for_Math_and_Stats.ipynb",
      "provenance": [],
      "authorship_tag": "ABX9TyPQMrOj5LblpsshydJR9Cu1",
      "include_colab_link": true
    },
    "kernelspec": {
      "name": "python3",
      "display_name": "Python 3"
    }
  },
  "cells": [
    {
      "cell_type": "markdown",
      "metadata": {
        "id": "view-in-github",
        "colab_type": "text"
      },
      "source": [
        "<a href=\"https://colab.research.google.com/github/DavidLedvinka/Python-for-Math-and-Statistics-Workshop/blob/master/Python_for_Math_and_Stats.ipynb\" target=\"_parent\"><img src=\"https://colab.research.google.com/assets/colab-badge.svg\" alt=\"Open In Colab\"/></a>"
      ]
    },
    {
      "cell_type": "code",
      "metadata": {
        "id": "bGANzBmkp3nH",
        "colab_type": "code",
        "colab": {}
      },
      "source": [
        "def"
      ],
      "execution_count": 0,
      "outputs": []
    }
  ]
}